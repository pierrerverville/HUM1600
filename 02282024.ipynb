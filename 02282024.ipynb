{
  "nbformat": 4,
  "nbformat_minor": 0,
  "metadata": {
    "colab": {
      "provenance": [],
      "authorship_tag": "ABX9TyNpA67pSNRS8yfExGBEYReb",
      "include_colab_link": true
    },
    "kernelspec": {
      "name": "python3",
      "display_name": "Python 3"
    },
    "language_info": {
      "name": "python"
    }
  },
  "cells": [
    {
      "cell_type": "markdown",
      "metadata": {
        "id": "view-in-github",
        "colab_type": "text"
      },
      "source": [
        "<a href=\"https://colab.research.google.com/github/pierrerverville/HUM1600/blob/main/02282024.ipynb\" target=\"_parent\"><img src=\"https://colab.research.google.com/assets/colab-badge.svg\" alt=\"Open In Colab\"/></a>"
      ]
    },
    {
      "cell_type": "code",
      "execution_count": null,
      "metadata": {
        "colab": {
          "base_uri": "https://localhost:8080/"
        },
        "id": "Jpc829R5LqVy",
        "outputId": "fef3e935-382b-4eca-c790-ea87d1ee5c07"
      },
      "outputs": [
        {
          "output_type": "stream",
          "name": "stdout",
          "text": [
            "Equal\n",
            "10\n",
            "20\n",
            "30\n",
            "40\n",
            "40\n",
            "5\n",
            "5\n"
          ]
        }
      ],
      "source": [
        "#review\n",
        "x = 5\n",
        "\n",
        "\n",
        "\n",
        "if x > 5:\n",
        "  print(\"Yes\")\n",
        "elif x == 5:\n",
        "  print(\"Equal\")\n",
        "else:\n",
        "  print(\"No\")\n",
        "\n",
        "lst = [10,20,30,40,40] #our iterable\n",
        "for n in lst:\n",
        "  print(n)\n",
        "\n",
        "counter = 0\n",
        "int_sum = 0\n",
        "user_int = 0\n",
        "#while user_int != 3:\n",
        "  # int_sum = int_sum + int(user_int)\n",
        "  # counter+=1\n",
        "  # user_int = input(\"enter your next integer: \")\n",
        "\n",
        "s = \"hello\"\n",
        "print(len(s))\n",
        "print(len(lst))\n"
      ]
    }
  ]
}