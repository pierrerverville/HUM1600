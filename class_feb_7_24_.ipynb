{
  "nbformat": 4,
  "nbformat_minor": 0,
  "metadata": {
    "colab": {
      "provenance": [],
      "authorship_tag": "ABX9TyO3AtW4M/s4O4+p5dZoCDE7",
      "include_colab_link": true
    },
    "kernelspec": {
      "name": "python3",
      "display_name": "Python 3"
    },
    "language_info": {
      "name": "python"
    }
  },
  "cells": [
    {
      "cell_type": "markdown",
      "metadata": {
        "id": "view-in-github",
        "colab_type": "text"
      },
      "source": [
        "<a href=\"https://colab.research.google.com/github/pierrerverville/HUM1600/blob/main/class_feb_7_24_.ipynb\" target=\"_parent\"><img src=\"https://colab.research.google.com/assets/colab-badge.svg\" alt=\"Open In Colab\"/></a>"
      ]
    },
    {
      "cell_type": "code",
      "execution_count": null,
      "metadata": {
        "colab": {
          "base_uri": "https://localhost:8080/"
        },
        "id": "dICF0FmZ9pAD",
        "outputId": "9294fac4-841b-44be-89f2-27ad3352b5d0"
      },
      "outputs": [
        {
          "output_type": "stream",
          "name": "stdout",
          "text": [
            "Not larger\n",
            "No\n",
            "yellow berries\n",
            "F\n"
          ]
        }
      ],
      "source": [
        "x = 10\n",
        "if x > 10:\n",
        "  print(\"Larger\") #prints when condition is true\n",
        "else:\n",
        "   print(\"Not larger\") #prints when condition is false\n",
        "\n",
        "#write code to set a variable to bob\n",
        "# write code to ask \"is the variable equal to bob?\"\n",
        "\n",
        "name = \"jimbo\"\n",
        "if name == \"bob\":\n",
        "  print(\"Yes\")\n",
        "else:\n",
        "  print(\"No\")\n",
        "\n",
        "if name == \"jimbo\":\n",
        "  print(\"yellow berries\")\n",
        "\n",
        "# A is 90-100\n",
        "# B is 80-89\n",
        "# C is 70-79\n",
        "# D is 60-69\n",
        "# F is <60\n",
        "\n",
        "score = 33\n",
        "if score >= 90:\n",
        "  grade = \"A\"\n",
        "elif score >= 80:\n",
        "  grade = \"B\"\n",
        "elif score >= 70:\n",
        "  grade = \"C\"\n",
        "elif score >= 60:\n",
        "  grade = \"D\"\n",
        "\n",
        "else : grade = \"F\"\n",
        "\n",
        "print(grade)\n",
        "\n",
        "\n",
        "#write an if-elif program that prompts the user for their age\n",
        "# and it will print whether they are \"young\", \"middle aged\", or \"older\"\n",
        "# where young is 0-18, middle aged is 19-50, and older is 50+\n",
        "\n",
        "age = int(input(\"enter your age: \"))\n",
        "if age <= 18:\n",
        "    print(\"You are young.\")\n",
        "elif age <= 50:\n",
        "    print(\"You are middle aged.\")\n",
        "else:\n",
        "    print(\"You are older.\")"
      ]
    }
  ]
}